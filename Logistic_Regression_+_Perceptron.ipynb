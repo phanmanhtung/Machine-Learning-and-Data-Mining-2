{
  "nbformat": 4,
  "nbformat_minor": 0,
  "metadata": {
    "colab": {
      "name": "Logistic Regression + Perceptron.ipynb",
      "provenance": [],
      "authorship_tag": "ABX9TyMeXGVdMk771TQei3CFBkEy",
      "include_colab_link": true
    },
    "kernelspec": {
      "name": "python3",
      "display_name": "Python 3"
    }
  },
  "cells": [
    {
      "cell_type": "markdown",
      "metadata": {
        "id": "view-in-github",
        "colab_type": "text"
      },
      "source": [
        "<a href=\"https://colab.research.google.com/github/phanmanhtung/Machine-Learning-and-Data-Mining-2/blob/master/Logistic_Regression_%2B_Perceptron.ipynb\" target=\"_parent\"><img src=\"https://colab.research.google.com/assets/colab-badge.svg\" alt=\"Open In Colab\"/></a>"
      ]
    },
    {
      "cell_type": "code",
      "metadata": {
        "id": "ZehFR7nNV-6d",
        "colab_type": "code",
        "outputId": "90576433-e7b7-474d-c537-90ea0930589a",
        "colab": {
          "base_uri": "https://localhost:8080/",
          "height": 34
        }
      },
      "source": [
        "from google.colab import drive\n",
        "\n",
        "drive.mount('/content/gdrive')\n",
        "root_path = 'gdrive/My Drive/ggcolab/'  #change dir to your project folder"
      ],
      "execution_count": 0,
      "outputs": [
        {
          "output_type": "stream",
          "text": [
            "Drive already mounted at /content/gdrive; to attempt to forcibly remount, call drive.mount(\"/content/gdrive\", force_remount=True).\n"
          ],
          "name": "stdout"
        }
      ]
    },
    {
      "cell_type": "code",
      "metadata": {
        "id": "4sFq3_IMWAA0",
        "colab_type": "code",
        "outputId": "6be5d05e-8c2e-4ae5-c149-70344ba1cc8b",
        "colab": {
          "base_uri": "https://localhost:8080/",
          "height": 328
        }
      },
      "source": [
        "import numpy as np\n",
        "import matplotlib.pyplot as plt\n",
        "import pandas as pd\n",
        "\n",
        "data = pd.DataFrame({'length':[3,2,4,3,3.5,2,5.5,1,4.5],\n",
        "                    'width':[1.5,1,1.5,1,.5,.5,1,1,1],\n",
        "                    'color':[1,0,1,0,1,0,1,0,np.NaN]})\n",
        "data"
      ],
      "execution_count": 0,
      "outputs": [
        {
          "output_type": "execute_result",
          "data": {
            "text/html": [
              "<div>\n",
              "<style scoped>\n",
              "    .dataframe tbody tr th:only-of-type {\n",
              "        vertical-align: middle;\n",
              "    }\n",
              "\n",
              "    .dataframe tbody tr th {\n",
              "        vertical-align: top;\n",
              "    }\n",
              "\n",
              "    .dataframe thead th {\n",
              "        text-align: right;\n",
              "    }\n",
              "</style>\n",
              "<table border=\"1\" class=\"dataframe\">\n",
              "  <thead>\n",
              "    <tr style=\"text-align: right;\">\n",
              "      <th></th>\n",
              "      <th>length</th>\n",
              "      <th>width</th>\n",
              "      <th>color</th>\n",
              "    </tr>\n",
              "  </thead>\n",
              "  <tbody>\n",
              "    <tr>\n",
              "      <th>0</th>\n",
              "      <td>3.0</td>\n",
              "      <td>1.5</td>\n",
              "      <td>1.0</td>\n",
              "    </tr>\n",
              "    <tr>\n",
              "      <th>1</th>\n",
              "      <td>2.0</td>\n",
              "      <td>1.0</td>\n",
              "      <td>0.0</td>\n",
              "    </tr>\n",
              "    <tr>\n",
              "      <th>2</th>\n",
              "      <td>4.0</td>\n",
              "      <td>1.5</td>\n",
              "      <td>1.0</td>\n",
              "    </tr>\n",
              "    <tr>\n",
              "      <th>3</th>\n",
              "      <td>3.0</td>\n",
              "      <td>1.0</td>\n",
              "      <td>0.0</td>\n",
              "    </tr>\n",
              "    <tr>\n",
              "      <th>4</th>\n",
              "      <td>3.5</td>\n",
              "      <td>0.5</td>\n",
              "      <td>1.0</td>\n",
              "    </tr>\n",
              "    <tr>\n",
              "      <th>5</th>\n",
              "      <td>2.0</td>\n",
              "      <td>0.5</td>\n",
              "      <td>0.0</td>\n",
              "    </tr>\n",
              "    <tr>\n",
              "      <th>6</th>\n",
              "      <td>5.5</td>\n",
              "      <td>1.0</td>\n",
              "      <td>1.0</td>\n",
              "    </tr>\n",
              "    <tr>\n",
              "      <th>7</th>\n",
              "      <td>1.0</td>\n",
              "      <td>1.0</td>\n",
              "      <td>0.0</td>\n",
              "    </tr>\n",
              "    <tr>\n",
              "      <th>8</th>\n",
              "      <td>4.5</td>\n",
              "      <td>1.0</td>\n",
              "      <td>NaN</td>\n",
              "    </tr>\n",
              "  </tbody>\n",
              "</table>\n",
              "</div>"
            ],
            "text/plain": [
              "   length  width  color\n",
              "0     3.0    1.5    1.0\n",
              "1     2.0    1.0    0.0\n",
              "2     4.0    1.5    1.0\n",
              "3     3.0    1.0    0.0\n",
              "4     3.5    0.5    1.0\n",
              "5     2.0    0.5    0.0\n",
              "6     5.5    1.0    1.0\n",
              "7     1.0    1.0    0.0\n",
              "8     4.5    1.0    NaN"
            ]
          },
          "metadata": {
            "tags": []
          },
          "execution_count": 14
        }
      ]
    },
    {
      "cell_type": "code",
      "metadata": {
        "id": "JrOza0yhWAHq",
        "colab_type": "code",
        "outputId": "e68acbfe-b84c-402b-9f12-b49a0cb629c8",
        "colab": {
          "base_uri": "https://localhost:8080/",
          "height": 300
        }
      },
      "source": [
        "# Graph points\n",
        "for i in range(len(data) - 1):\n",
        "    if data['color'].values[i] == 1:\n",
        "        plt.scatter(data['length'].values[i], data['width'].values[i], c = 'r')\n",
        "    elif data['color'].values[i] == 0:\n",
        "        plt.scatter(data['length'].values[i], data['width'].values[i], c = 'b')\n",
        "        \n",
        "plt.scatter(4.5, 1.0, color='magenta', s=100)\n",
        "plt.grid()\n",
        "plt.xlabel('length')\n",
        "plt.ylabel('width')\n",
        "plt.axis([0,6,0,6])"
      ],
      "execution_count": 0,
      "outputs": [
        {
          "output_type": "execute_result",
          "data": {
            "text/plain": [
              "[0, 6, 0, 6]"
            ]
          },
          "metadata": {
            "tags": []
          },
          "execution_count": 15
        },
        {
          "output_type": "display_data",
          "data": {
            "image/png": "[encoded data removed]",
            "text/plain": [
              "<Figure size 432x288 with 1 Axes>"
            ]
          },
          "metadata": {
            "tags": []
          }
        }
      ]
    },
    {
      "cell_type": "code",
      "metadata": {
        "id": "0U025EwIWALL",
        "colab_type": "code",
        "outputId": "39281d13-a337-4f56-c82d-1d0c3bc3e975",
        "colab": {
          "base_uri": "https://localhost:8080/",
          "height": 282
        }
      },
      "source": [
        "# Sigmoid function is used in Logistic Regression\n",
        "\n",
        "def sigmoid(z):\n",
        "    return 1/(1+np.exp(-z))\n",
        "    # sigmoid = 1/(1+e^-z) (activation function)\n",
        "    # cost function: (prediction - target)^2 -> (1/(1+e^(l*w1+w*w2+b)) - 1)^2\n",
        "\n",
        "def der_sig(z):\n",
        "    return sigmoid(z) - sigmoid(z) ** 2\n",
        "# Plot sigmoid function:\n",
        "x = np.linspace(-6,6,1000)\n",
        "y = sigmoid(x)\n",
        "y_der = der_sig(x)\n",
        "\n",
        "plt.plot(x , y)\n",
        "plt.plot(x, y_der)"
      ],
      "execution_count": 0,
      "outputs": [
        {
          "output_type": "execute_result",
          "data": {
            "text/plain": [
              "[<matplotlib.lines.Line2D at 0x7fa72435f550>]"
            ]
          },
          "metadata": {
            "tags": []
          },
          "execution_count": 16
        },
        {
          "output_type": "display_data",
          "data": {
            "image/png": "[encoded data removed]",
            "text/plain": [
              "<Figure size 432x288 with 1 Axes>"
            ]
          },
          "metadata": {
            "tags": []
          }
        }
      ]
    },
    {
      "cell_type": "code",
      "metadata": {
        "id": "M4cl8Hx6bco0",
        "colab_type": "code",
        "colab": {}
      },
      "source": [
        "# Drop the unknown data for training\n",
        "data.drop([8], axis = 0, inplace=True)"
      ],
      "execution_count": 0,
      "outputs": []
    },
    {
      "cell_type": "code",
      "metadata": {
        "id": "PKHah5RxpOyF",
        "colab_type": "code",
        "outputId": "ffdbb477-cd71-415b-9ebe-6a9ba86120de",
        "colab": {
          "base_uri": "https://localhost:8080/",
          "height": 34
        }
      },
      "source": [
        "#_____________________________________The freakin! real perceptron___________________________________________#\n",
        "\n",
        "length_values = data[\"length\"].values\n",
        "width_values = data[\"width\"].values\n",
        "target = data[\"color\"].values\n",
        "\n",
        "new_target = np.where(target == 0, -1, 1)\n",
        "print(new_target)"
      ],
      "execution_count": 0,
      "outputs": [
        {
          "output_type": "stream",
          "text": [
            "[ 1 -1  1 -1  1 -1  1 -1]\n"
          ],
          "name": "stdout"
        }
      ]
    },
    {
      "cell_type": "code",
      "metadata": {
        "id": "R_ZNkArbpUzJ",
        "colab_type": "code",
        "outputId": "8fa5d812-93df-4301-b209-e05d547d2cec",
        "colab": {
          "base_uri": "https://localhost:8080/",
          "height": 34
        }
      },
      "source": [
        "# The target value should be 1 and -1\n",
        "print(np.sign(-1000000000000000))"
      ],
      "execution_count": 0,
      "outputs": [
        {
          "output_type": "stream",
          "text": [
            "-1\n"
          ],
          "name": "stdout"
        }
      ]
    },
    {
      "cell_type": "code",
      "metadata": {
        "id": "PO281qrAodO-",
        "colab_type": "code",
        "outputId": "0c8c315a-a2ad-4c97-b6a5-4147e02ce863",
        "colab": {
          "base_uri": "https://localhost:8080/",
          "height": 85
        }
      },
      "source": [
        "def h(l, w, w1, w2, b):\n",
        "    return np.sign(l*w1 + w*w2 + b)\n",
        "\n",
        "w1 = 0\n",
        "w2 = 0\n",
        "b = 0\n",
        "count = 0\n",
        "check = 1\n",
        "\n",
        "while True:\n",
        "  # Check whether the algorithm has converged\n",
        "  if check == 0:\n",
        "    break\n",
        "\n",
        "  count += 1 \n",
        "  check = 0\n",
        "  for i in range(0, len(data)):\n",
        "    if h(length_values[i], width_values[i], w1, w2, b) != new_target[i]:\n",
        "      w1 = w1 + new_target[i]*length_values[i]\n",
        "      w2 = w2 + new_target[i]*width_values[i]\n",
        "      b = b + new_target[i]\n",
        "      check = 1\n",
        "\n",
        "\n",
        "print(w1)\n",
        "print(w2)\n",
        "print(b)\n",
        "print(\"Convergence rate:\", count)"
      ],
      "execution_count": 0,
      "outputs": [
        {
          "output_type": "stream",
          "text": [
            "8.0\n",
            "1.5\n",
            "-26\n",
            "Convergence rate: 148\n"
          ],
          "name": "stdout"
        }
      ]
    },
    {
      "cell_type": "code",
      "metadata": {
        "id": "eqKtvbppsSS0",
        "colab_type": "code",
        "outputId": "9ce409d1-ff31-476b-d4d3-76d27fd92355",
        "colab": {
          "base_uri": "https://localhost:8080/",
          "height": 34
        }
      },
      "source": [
        "def which_flower(l, w):\n",
        "    return h(l,w,w1,w2,b)\n",
        "print(\"Our prediction of the problem: \", which_flower(4.5,1)) # expect to see 1"
      ],
      "execution_count": 0,
      "outputs": [
        {
          "output_type": "stream",
          "text": [
            "Our prediction of the problem:  1.0\n"
          ],
          "name": "stdout"
        }
      ]
    },
    {
      "cell_type": "code",
      "metadata": {
        "id": "MHDj2ShAodTU",
        "colab_type": "code",
        "outputId": "9c4613de-7d36-4317-c6ac-1a931594e0cc",
        "colab": {
          "base_uri": "https://localhost:8080/",
          "height": 585
        }
      },
      "source": [
        "#MESH\n",
        "from matplotlib.colors import ListedColormap\n",
        "cmap_light = ListedColormap(['#AAAAFF','#AAFFAA','#FFAAAA'])\n",
        "#generate all the points in the plane using np.meshgrid(np.arange(x_min, x_min, super_small))\n",
        "xx, yy = np.meshgrid(np.arange(0, 6, .005), np.arange(0, 6, .005))\n",
        "Z = which_flower(xx.ravel(),yy.ravel())\n",
        "Z = Z.reshape(xx.shape)\n",
        "\n",
        "plt.figure()\n",
        "# xx, yy are ALL the points in the plane, Z is the color of each area\n",
        "# then plot the points using plt.scatter as usual\n",
        "plt.pcolormesh(xx,yy,Z,cmap=cmap_light)\n",
        "\n",
        "# Graph points\n",
        "for i in range(len(data)):\n",
        "    if data['color'].values[i] == 1:\n",
        "        plt.scatter(data['length'].values[i], data['width'].values[i], c = 'r')\n",
        "    elif data['color'].values[i] == 0:\n",
        "        plt.scatter(data['length'].values[i], data['width'].values[i], c = 'b')\n",
        "plt.grid()\n",
        "plt.xlabel('length')\n",
        "plt.ylabel('width')\n",
        "plt.axis([0,6,0,6])\n",
        "\n",
        "plt.xlim(xx.min(),xx.max())\n",
        "plt.ylim(yy.min(),yy.max())\n",
        "#------x_min x_max y_min y_max"
      ],
      "execution_count": 0,
      "outputs": [
        {
          "output_type": "stream",
          "text": [
            "(1200, 1200)\n",
            "[[0.000e+00 5.000e-03 1.000e-02 ... 5.985e+00 5.990e+00 5.995e+00]\n",
            " [0.000e+00 5.000e-03 1.000e-02 ... 5.985e+00 5.990e+00 5.995e+00]\n",
            " [0.000e+00 5.000e-03 1.000e-02 ... 5.985e+00 5.990e+00 5.995e+00]\n",
            " ...\n",
            " [0.000e+00 5.000e-03 1.000e-02 ... 5.985e+00 5.990e+00 5.995e+00]\n",
            " [0.000e+00 5.000e-03 1.000e-02 ... 5.985e+00 5.990e+00 5.995e+00]\n",
            " [0.000e+00 5.000e-03 1.000e-02 ... 5.985e+00 5.990e+00 5.995e+00]]\n",
            "(1200, 1200)\n",
            "[[0.000e+00 0.000e+00 0.000e+00 ... 0.000e+00 0.000e+00 0.000e+00]\n",
            " [5.000e-03 5.000e-03 5.000e-03 ... 5.000e-03 5.000e-03 5.000e-03]\n",
            " [1.000e-02 1.000e-02 1.000e-02 ... 1.000e-02 1.000e-02 1.000e-02]\n",
            " ...\n",
            " [5.985e+00 5.985e+00 5.985e+00 ... 5.985e+00 5.985e+00 5.985e+00]\n",
            " [5.990e+00 5.990e+00 5.990e+00 ... 5.990e+00 5.990e+00 5.990e+00]\n",
            " [5.995e+00 5.995e+00 5.995e+00 ... 5.995e+00 5.995e+00 5.995e+00]]\n",
            "(1200, 1200)\n"
          ],
          "name": "stdout"
        },
        {
          "output_type": "execute_result",
          "data": {
            "text/plain": [
              "(0.0, 5.995)"
            ]
          },
          "metadata": {
            "tags": []
          },
          "execution_count": 23
        },
        {
          "output_type": "display_data",
          "data": {
            "image/png": "[encoded data removed]",
            "text/plain": [
              "<Figure size 432x288 with 1 Axes>"
            ]
          },
          "metadata": {
            "tags": []
          }
        }
      ]
    },
    {
      "cell_type": "code",
      "metadata": {
        "id": "xVNhu7JEodLp",
        "colab_type": "code",
        "colab": {}
      },
      "source": [
        "#_______________________________________LOGISTIC REGRESSION__________________________________________#"
      ],
      "execution_count": 0,
      "outputs": []
    },
    {
      "cell_type": "code",
      "metadata": {
        "id": "EDXJ2QJPWAOm",
        "colab_type": "code",
        "outputId": "74f38dac-d0e4-4bd8-ba1b-3052d6b0698f",
        "colab": {
          "base_uri": "https://localhost:8080/",
          "height": 282
        }
      },
      "source": [
        "# The Logistric Regression\n",
        "\n",
        "length_values = data[\"length\"].values\n",
        "width_values = data[\"width\"].values\n",
        "target = data[\"color\"].values\n",
        "\n",
        "def NN(l, w, w1, w2, b):\n",
        "    return l*w1 + w*w2 + b\n",
        "w1 = 0\n",
        "w2 = 0\n",
        "b = 0\n",
        "\n",
        "# Loop through all the point, calculate the COST FUNCTION\n",
        "costs = []\n",
        "for j in range(100000):\n",
        "  for i in range(0, len(data)-2):\n",
        "    neunet = NN(length_values[i], width_values[i], w1, w2, b)\n",
        "    prediction = sigmoid(neunet)\n",
        "\n",
        "    # Cost to save the information\n",
        "    cost = (prediction - target[i])**2\n",
        "        \n",
        "    dcost_dpred = 2 * (prediction - target[i])\n",
        "    dpred_dneunet = der_sig(neunet)\n",
        "                    \n",
        "    dneunet_dw1 = length_values[i]\n",
        "    dneunet_dw2 = width_values[i]\n",
        "    dneunet_db = 1\n",
        "    \n",
        "    # Calculate the DERIVATIVE of COST FUNCTION w/r.t. w1, w2, b\n",
        "    dcost_dw1 = dcost_dpred * dpred_dneunet * dneunet_dw1 # chain rule\n",
        "    dcost_dw2 = dcost_dpred * dpred_dneunet * dneunet_dw2\n",
        "    dcost_db = dcost_dpred * dpred_dneunet * dneunet_db\n",
        "                    \n",
        "    # Update w1, w2, w3 over time:\n",
        "    w1 = w1 - 0.5*dcost_dw1 # w1_gradient\n",
        "    w2 = w2 - 0.5*dcost_dw2\n",
        "    b = b - 0.5*dcost_db\n",
        "        \n",
        "    if j % 100:\n",
        "        costs.append(cost)\n",
        "plt.plot(costs)"
      ],
      "execution_count": 0,
      "outputs": [
        {
          "output_type": "execute_result",
          "data": {
            "text/plain": [
              "[<matplotlib.lines.Line2D at 0x7fe8834a6160>]"
            ]
          },
          "metadata": {
            "tags": []
          },
          "execution_count": 64
        },
        {
          "output_type": "display_data",
          "data": {
            "image/png": "[encoded data removed]",
            "text/plain": [
              "<Figure size 432x288 with 1 Axes>"
            ]
          },
          "metadata": {
            "tags": []
          }
        }
      ]
    },
    {
      "cell_type": "code",
      "metadata": {
        "id": "_QSDuPKYbDJF",
        "colab_type": "code",
        "outputId": "7360553f-a997-4ee9-8177-fb08f77034f1",
        "colab": {
          "base_uri": "https://localhost:8080/",
          "height": 85
        }
      },
      "source": [
        "print(w1)\n",
        "print(w2)\n",
        "print(b)\n",
        "\n",
        "def which_flower(l, w):\n",
        "    return sigmoid(NN(l,w,w1,w2,b))\n",
        "print(\"Our prediction of the problem: \", which_flower(4.5,1)) # expect to see 1"
      ],
      "execution_count": 0,
      "outputs": [
        {
          "output_type": "stream",
          "text": [
            "25.004077695812413\n",
            "12.330900617678438\n",
            "-90.2682000787493\n",
            "Our prediction of the problem:  0.9999999999999991\n"
          ],
          "name": "stdout"
        }
      ]
    },
    {
      "cell_type": "code",
      "metadata": {
        "id": "SkA5KFNUWQvA",
        "colab_type": "code",
        "outputId": "23d84d79-c2f8-4bb5-e221-2a54968ce313",
        "colab": {
          "base_uri": "https://localhost:8080/",
          "height": 296
        }
      },
      "source": [
        "#MESH\n",
        "from matplotlib.colors import ListedColormap\n",
        "cmap_light = ListedColormap(['#AAAAFF','#AAFFAA','#FFAAAA'])\n",
        "#generate all the points in the plane using np.meshgrid(np.arange(x_min, x_min, super_small))\n",
        "xx, yy = np.meshgrid(np.arange(0, 6, .005), np.arange(0, 6, .005))\n",
        "Z = which_flower(xx.ravel(),yy.ravel())\n",
        "Z = Z.reshape(xx.shape)\n",
        "\n",
        "plt.figure()\n",
        "# xx, yy are ALL the points in the plane, Z is the color of each area\n",
        "# then plot the points using plt.scatter as usual\n",
        "plt.pcolormesh(xx,yy,Z,cmap=cmap_light)\n",
        "\n",
        "# Graph points\n",
        "for i in range(len(data) - 1):\n",
        "    if data['color'].values[i] == 1:\n",
        "        plt.scatter(data['length'].values[i], data['width'].values[i], c = 'r')\n",
        "    elif data['color'].values[i] == 0:\n",
        "        plt.scatter(data['length'].values[i], data['width'].values[i], c = 'b')\n",
        "plt.grid()\n",
        "plt.xlabel('length')\n",
        "plt.ylabel('width')\n",
        "plt.axis([0,6,0,6])\n",
        "\n",
        "plt.xlim(xx.min(),xx.max())\n",
        "plt.ylim(yy.min(),yy.max())\n",
        "#------x_min x_max y_min y_max"
      ],
      "execution_count": 0,
      "outputs": [
        {
          "output_type": "execute_result",
          "data": {
            "text/plain": [
              "(0.0, 5.995)"
            ]
          },
          "metadata": {
            "tags": []
          },
          "execution_count": 87
        },
        {
          "output_type": "display_data",
          "data": {
            "image/png": "[encoded data removed]",
            "text/plain": [
              "<Figure size 432x288 with 1 Axes>"
            ]
          },
          "metadata": {
            "tags": []
          }
        }
      ]
    },
    {
      "cell_type": "code",
      "metadata": {
        "id": "72utDbqJWQzI",
        "colab_type": "code",
        "colab": {}
      },
      "source": [
        ""
      ],
      "execution_count": 0,
      "outputs": []
    },
    {
      "cell_type": "code",
      "metadata": {
        "id": "xPW2aLf4WQo7",
        "colab_type": "code",
        "colab": {}
      },
      "source": [
        ""
      ],
      "execution_count": 0,
      "outputs": []
    }
  ]
}