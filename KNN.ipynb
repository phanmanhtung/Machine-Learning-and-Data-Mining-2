{
  "nbformat": 4,
  "nbformat_minor": 0,
  "metadata": {
    "colab": {
      "name": "KNN.ipynb",
      "provenance": [],
      "authorship_tag": "ABX9TyMbTBW84b/cg2GC5D7BKpAZ",
      "include_colab_link": true
    },
    "kernelspec": {
      "name": "python3",
      "display_name": "Python 3"
    }
  },
  "cells": [
    {
      "cell_type": "markdown",
      "metadata": {
        "id": "view-in-github",
        "colab_type": "text"
      },
      "source": [
        "<a href=\"https://colab.research.google.com/github/phanmanhtung/Machine-Learning-and-Data-Mining-2/blob/master/KNN.ipynb\" target=\"_parent\"><img src=\"https://colab.research.google.com/assets/colab-badge.svg\" alt=\"Open In Colab\"/></a>"
      ]
    },
    {
      "cell_type": "code",
      "metadata": {
        "id": "Vaj2gnknK3dH",
        "colab_type": "code",
        "outputId": "93ce3c80-4662-49b8-c26d-43929375bd14",
        "colab": {
          "base_uri": "https://localhost:8080/",
          "height": 34
        }
      },
      "source": [
        "from google.colab import drive\n",
        "\n",
        "drive.mount('/content/gdrive')\n",
        "root_path = 'gdrive/My Drive/ggcolab/'  #change dir to your project folder"
      ],
      "execution_count": 0,
      "outputs": [
        {
          "output_type": "stream",
          "text": [
            "Drive already mounted at /content/gdrive; to attempt to forcibly remount, call drive.mount(\"/content/gdrive\", force_remount=True).\n"
          ],
          "name": "stdout"
        }
      ]
    },
    {
      "cell_type": "code",
      "metadata": {
        "id": "8Z8ndqCULB-k",
        "colab_type": "code",
        "outputId": "a350e949-974e-40a1-d0cc-25d5c123cfca",
        "colab": {
          "base_uri": "https://localhost:8080/",
          "height": 204
        }
      },
      "source": [
        "import numpy as np\n",
        "import pandas as pd\n",
        "import matplotlib.pyplot as plt\n",
        "\n",
        "column = [\"sepal length\", \"sepal width\", \"petal length\", \"petal width\", \"class\"]\n",
        "df = pd.read_csv(\"/content/gdrive/My Drive/iris.data\", sep=',', header=None)\n",
        "df.columns = column\n",
        "myclass = df[\"class\"]\n",
        "df.head(5)"
      ],
      "execution_count": 0,
      "outputs": [
        {
          "output_type": "execute_result",
          "data": {
            "text/html": [
              "<div>\n",
              "<style scoped>\n",
              "    .dataframe tbody tr th:only-of-type {\n",
              "        vertical-align: middle;\n",
              "    }\n",
              "\n",
              "    .dataframe tbody tr th {\n",
              "        vertical-align: top;\n",
              "    }\n",
              "\n",
              "    .dataframe thead th {\n",
              "        text-align: right;\n",
              "    }\n",
              "</style>\n",
              "<table border=\"1\" class=\"dataframe\">\n",
              "  <thead>\n",
              "    <tr style=\"text-align: right;\">\n",
              "      <th></th>\n",
              "      <th>sepal length</th>\n",
              "      <th>sepal width</th>\n",
              "      <th>petal length</th>\n",
              "      <th>petal width</th>\n",
              "      <th>class</th>\n",
              "    </tr>\n",
              "  </thead>\n",
              "  <tbody>\n",
              "    <tr>\n",
              "      <th>0</th>\n",
              "      <td>5.1</td>\n",
              "      <td>3.5</td>\n",
              "      <td>1.4</td>\n",
              "      <td>0.2</td>\n",
              "      <td>Iris-setosa</td>\n",
              "    </tr>\n",
              "    <tr>\n",
              "      <th>1</th>\n",
              "      <td>4.9</td>\n",
              "      <td>3.0</td>\n",
              "      <td>1.4</td>\n",
              "      <td>0.2</td>\n",
              "      <td>Iris-setosa</td>\n",
              "    </tr>\n",
              "    <tr>\n",
              "      <th>2</th>\n",
              "      <td>4.7</td>\n",
              "      <td>3.2</td>\n",
              "      <td>1.3</td>\n",
              "      <td>0.2</td>\n",
              "      <td>Iris-setosa</td>\n",
              "    </tr>\n",
              "    <tr>\n",
              "      <th>3</th>\n",
              "      <td>4.6</td>\n",
              "      <td>3.1</td>\n",
              "      <td>1.5</td>\n",
              "      <td>0.2</td>\n",
              "      <td>Iris-setosa</td>\n",
              "    </tr>\n",
              "    <tr>\n",
              "      <th>4</th>\n",
              "      <td>5.0</td>\n",
              "      <td>3.6</td>\n",
              "      <td>1.4</td>\n",
              "      <td>0.2</td>\n",
              "      <td>Iris-setosa</td>\n",
              "    </tr>\n",
              "  </tbody>\n",
              "</table>\n",
              "</div>"
            ],
            "text/plain": [
              "   sepal length  sepal width  petal length  petal width        class\n",
              "0           5.1          3.5           1.4          0.2  Iris-setosa\n",
              "1           4.9          3.0           1.4          0.2  Iris-setosa\n",
              "2           4.7          3.2           1.3          0.2  Iris-setosa\n",
              "3           4.6          3.1           1.5          0.2  Iris-setosa\n",
              "4           5.0          3.6           1.4          0.2  Iris-setosa"
            ]
          },
          "metadata": {
            "tags": []
          },
          "execution_count": 2
        }
      ]
    },
    {
      "cell_type": "code",
      "metadata": {
        "id": "TttsZiRgL7uU",
        "colab_type": "code",
        "colab": {}
      },
      "source": [
        "X = df.drop([\"class\"], axis=1).values\n",
        "y = myclass.values"
      ],
      "execution_count": 0,
      "outputs": []
    },
    {
      "cell_type": "code",
      "metadata": {
        "id": "RVchWyXFL1No",
        "colab_type": "code",
        "colab": {}
      },
      "source": [
        "# splitting the data into training and test sets (80:20)\n",
        "from sklearn.model_selection import train_test_split\n",
        "X_train,X_test,y_train,y_test = train_test_split(X,y,test_size=0.2,random_state=4)"
      ],
      "execution_count": 0,
      "outputs": []
    },
    {
      "cell_type": "code",
      "metadata": {
        "id": "DN7XXkjq8CBQ",
        "colab_type": "code",
        "outputId": "3b98995f-4700-41a1-f936-3bbddda3cb17",
        "colab": {
          "base_uri": "https://localhost:8080/",
          "height": 51
        }
      },
      "source": [
        "print(len(X_train))\n",
        "print(len(y_train))"
      ],
      "execution_count": 0,
      "outputs": [
        {
          "output_type": "stream",
          "text": [
            "120\n",
            "120\n"
          ],
          "name": "stdout"
        }
      ]
    },
    {
      "cell_type": "code",
      "metadata": {
        "id": "ZkNrvs18NIaj",
        "colab_type": "code",
        "outputId": "e95169c7-fb98-441c-da23-51dff1f0772c",
        "colab": {
          "base_uri": "https://localhost:8080/",
          "height": 187
        }
      },
      "source": [
        "from sklearn.neighbors import KNeighborsClassifier\n",
        "import sklearn.metrics as sm\n",
        "\n",
        "my_knn = KNeighborsClassifier(n_neighbors=5)\n",
        "my_knn.fit(X_train, y_train)\n",
        "\n",
        "y_predict = my_knn.predict(X_test)\n",
        "\n",
        "target_names= [\"Iris-setosa\",\"Iris-versicolor\", \"Iris-virginica\"]\n",
        "print(sm.classification_report(y_predict, y_test, target_names=target_names))"
      ],
      "execution_count": 0,
      "outputs": [
        {
          "output_type": "stream",
          "text": [
            "                 precision    recall  f1-score   support\n",
            "\n",
            "    Iris-setosa       1.00      1.00      1.00        16\n",
            "Iris-versicolor       0.80      1.00      0.89         4\n",
            " Iris-virginica       1.00      0.90      0.95        10\n",
            "\n",
            "       accuracy                           0.97        30\n",
            "      macro avg       0.93      0.97      0.95        30\n",
            "   weighted avg       0.97      0.97      0.97        30\n",
            "\n"
          ],
          "name": "stdout"
        }
      ]
    },
    {
      "cell_type": "code",
      "metadata": {
        "id": "DQkoP-6Uxhht",
        "colab_type": "code",
        "outputId": "40b152a2-8f84-44c9-f4e9-c0ad8088fd39",
        "colab": {
          "base_uri": "https://localhost:8080/",
          "height": 323
        }
      },
      "source": [
        "for i in range(2,20):\n",
        "  my_knn = KNeighborsClassifier(n_neighbors=i)\n",
        "  my_knn.fit(X_train, y_train)\n",
        "\n",
        "  y_predict = my_knn.predict(X_test)\n",
        "\n",
        "  print(\"Accuracy score with k =\", i,\"is\",sm.accuracy_score(y_predict, y_test))  "
      ],
      "execution_count": 0,
      "outputs": [
        {
          "output_type": "stream",
          "text": [
            "Accuracy score with k = 2 is 0.9333333333333333\n",
            "Accuracy score with k = 3 is 0.9666666666666667\n",
            "Accuracy score with k = 4 is 0.9666666666666667\n",
            "Accuracy score with k = 5 is 0.9666666666666667\n",
            "Accuracy score with k = 6 is 0.9666666666666667\n",
            "Accuracy score with k = 7 is 0.9666666666666667\n",
            "Accuracy score with k = 8 is 0.9666666666666667\n",
            "Accuracy score with k = 9 is 0.9666666666666667\n",
            "Accuracy score with k = 10 is 0.9666666666666667\n",
            "Accuracy score with k = 11 is 0.9666666666666667\n",
            "Accuracy score with k = 12 is 0.9666666666666667\n",
            "Accuracy score with k = 13 is 0.9666666666666667\n",
            "Accuracy score with k = 14 is 0.9666666666666667\n",
            "Accuracy score with k = 15 is 0.9666666666666667\n",
            "Accuracy score with k = 16 is 0.9666666666666667\n",
            "Accuracy score with k = 17 is 0.9666666666666667\n",
            "Accuracy score with k = 18 is 0.9666666666666667\n",
            "Accuracy score with k = 19 is 0.9666666666666667\n"
          ],
          "name": "stdout"
        }
      ]
    },
    {
      "cell_type": "code",
      "metadata": {
        "id": "O2HuxXWExWUJ",
        "colab_type": "code",
        "outputId": "70f4f86f-0079-496a-bc54-cec6166a9f4b",
        "colab": {
          "base_uri": "https://localhost:8080/",
          "height": 323
        }
      },
      "source": [
        "from sklearn.preprocessing import normalize\n",
        "X_normalized = normalize(X)\n",
        "\n",
        "# Split train-test set\n",
        "X_train,X_test,y_train,y_test = train_test_split(X_normalized,y,test_size=0.2,random_state=4)\n",
        "\n",
        "for i in range(2,20):\n",
        "  my_knn = KNeighborsClassifier(n_neighbors=i)\n",
        "  my_knn.fit(X_train, y_train)\n",
        "\n",
        "  y_predict = my_knn.predict(X_test)\n",
        "\n",
        "  print(\"Accuracy score with k =\", i,\"is\",sm.accuracy_score(y_predict, y_test))"
      ],
      "execution_count": 0,
      "outputs": [
        {
          "output_type": "stream",
          "text": [
            "Accuracy score with k = 2 is 0.9666666666666667\n",
            "Accuracy score with k = 3 is 0.9666666666666667\n",
            "Accuracy score with k = 4 is 0.9666666666666667\n",
            "Accuracy score with k = 5 is 0.9666666666666667\n",
            "Accuracy score with k = 6 is 0.9666666666666667\n",
            "Accuracy score with k = 7 is 0.9666666666666667\n",
            "Accuracy score with k = 8 is 0.9333333333333333\n",
            "Accuracy score with k = 9 is 0.9666666666666667\n",
            "Accuracy score with k = 10 is 0.9333333333333333\n",
            "Accuracy score with k = 11 is 0.9666666666666667\n",
            "Accuracy score with k = 12 is 0.9666666666666667\n",
            "Accuracy score with k = 13 is 0.9666666666666667\n",
            "Accuracy score with k = 14 is 0.9666666666666667\n",
            "Accuracy score with k = 15 is 0.9666666666666667\n",
            "Accuracy score with k = 16 is 0.9666666666666667\n",
            "Accuracy score with k = 17 is 0.9666666666666667\n",
            "Accuracy score with k = 18 is 0.9666666666666667\n",
            "Accuracy score with k = 19 is 0.9666666666666667\n"
          ],
          "name": "stdout"
        }
      ]
    },
    {
      "cell_type": "code",
      "metadata": {
        "id": "QpB_pR4m2mRJ",
        "colab_type": "code",
        "outputId": "c9dff38b-8ec5-4137-b941-c7c2200fbb44",
        "colab": {
          "base_uri": "https://localhost:8080/",
          "height": 323
        }
      },
      "source": [
        "from sklearn.decomposition import PCA\n",
        "from sklearn import preprocessing\n",
        "\n",
        "scaled_data = preprocessing.scale(X)\n",
        " \n",
        "pca = PCA(n_components=2) # create a PCA object\n",
        "pca.fit(scaled_data) # do the math\n",
        "X_pca = pca.transform(scaled_data) # get PCA coordinates for scaled_data\n",
        "\n",
        "# Split train-test set\n",
        "X_train,X_test,y_train,y_test = train_test_split(X_pca,y,test_size=0.2,random_state=4)\n",
        "\n",
        "for i in range(2,20):\n",
        "  my_knn = KNeighborsClassifier(n_neighbors=i)\n",
        "  my_knn.fit(X_train, y_train)\n",
        "\n",
        "  y_predict = my_knn.predict(X_test)\n",
        "\n",
        "  print(\"Accuracy score with k =\", i,\"is\",sm.accuracy_score(y_predict, y_test))"
      ],
      "execution_count": 0,
      "outputs": [
        {
          "output_type": "stream",
          "text": [
            "Accuracy score with k = 2 is 0.9\n",
            "Accuracy score with k = 3 is 0.8666666666666667\n",
            "Accuracy score with k = 4 is 0.9\n",
            "Accuracy score with k = 5 is 0.9666666666666667\n",
            "Accuracy score with k = 6 is 0.9666666666666667\n",
            "Accuracy score with k = 7 is 0.9666666666666667\n",
            "Accuracy score with k = 8 is 0.9666666666666667\n",
            "Accuracy score with k = 9 is 0.9333333333333333\n",
            "Accuracy score with k = 10 is 0.9666666666666667\n",
            "Accuracy score with k = 11 is 0.9666666666666667\n",
            "Accuracy score with k = 12 is 0.9666666666666667\n",
            "Accuracy score with k = 13 is 0.9666666666666667\n",
            "Accuracy score with k = 14 is 0.9666666666666667\n",
            "Accuracy score with k = 15 is 0.9666666666666667\n",
            "Accuracy score with k = 16 is 0.9666666666666667\n",
            "Accuracy score with k = 17 is 0.9666666666666667\n",
            "Accuracy score with k = 18 is 1.0\n",
            "Accuracy score with k = 19 is 0.9666666666666667\n"
          ],
          "name": "stdout"
        }
      ]
    },
    {
      "cell_type": "code",
      "metadata": {
        "id": "6BK_q_qzZZm-",
        "colab_type": "code",
        "outputId": "f7b5a99d-bdba-4a9b-b2eb-533c40a61ccb",
        "colab": {
          "base_uri": "https://localhost:8080/",
          "height": 340
        }
      },
      "source": [
        "from sklearn.model_selection import KFold\n",
        "\n",
        "avg_accuracy_list = []\n",
        "kfold = KFold(10, True, 1)\n",
        "\n",
        "for i in range(2,20):\n",
        "  accuracy_list = []\n",
        "\n",
        "  for train_index, test_index in kfold.split(X):\n",
        "    my_knn = KNeighborsClassifier(n_neighbors=i)\n",
        "    X_train, X_test = X[train_index], X[test_index]\n",
        "    y_train, y_test = y[train_index], y[test_index]\n",
        "    my_knn.fit(X_train, y_train)\n",
        "    y_predict = my_knn.predict(X_test)\n",
        "\n",
        "    accuracy_list.append(sm.accuracy_score(y_predict, y_test))\n",
        "\n",
        "  avg_accuracy = sum(accuracy_list)/len(accuracy_list)\n",
        "  avg_accuracy_list.append(avg_accuracy)\n",
        "  print(\"Accuracy with k =\",i,\"is\", avg_accuracy)\n",
        "\n",
        "print(\"The maximum value of accuracy: \",np.array(avg_accuracy_list).max())\n",
        "# -----------> k = 8,9,14,15"
      ],
      "execution_count": 0,
      "outputs": [
        {
          "output_type": "stream",
          "text": [
            "Accuracy with k = 2 is 0.9466666666666669\n",
            "Accuracy with k = 3 is 0.9666666666666668\n",
            "Accuracy with k = 4 is 0.9533333333333335\n",
            "Accuracy with k = 5 is 0.9600000000000002\n",
            "Accuracy with k = 6 is 0.9533333333333335\n",
            "Accuracy with k = 7 is 0.9533333333333335\n",
            "Accuracy with k = 8 is 0.9733333333333334\n",
            "Accuracy with k = 9 is 0.9733333333333334\n",
            "Accuracy with k = 10 is 0.9600000000000002\n",
            "Accuracy with k = 11 is 0.9666666666666668\n",
            "Accuracy with k = 12 is 0.9600000000000002\n",
            "Accuracy with k = 13 is 0.9666666666666668\n",
            "Accuracy with k = 14 is 0.9733333333333334\n",
            "Accuracy with k = 15 is 0.9733333333333334\n",
            "Accuracy with k = 16 is 0.9600000000000002\n",
            "Accuracy with k = 17 is 0.9666666666666668\n",
            "Accuracy with k = 18 is 0.9600000000000002\n",
            "Accuracy with k = 19 is 0.9600000000000002\n",
            "The maximum value of accuracy:  0.9733333333333334\n"
          ],
          "name": "stdout"
        }
      ]
    },
    {
      "cell_type": "code",
      "metadata": {
        "id": "Iw0LR5ut3vnP",
        "colab_type": "code",
        "outputId": "0130a99a-858d-4d40-f5e5-d2a5d2ef9031",
        "colab": {
          "base_uri": "https://localhost:8080/",
          "height": 34
        }
      },
      "source": [
        "# Leave 1 data point for validation\n",
        "from sklearn.model_selection import LeaveOneOut\n",
        "\n",
        "accuracy_list = []\n",
        "for train_index, test_index in LeaveOneOut().split(X):\n",
        "  #print(\"TRAIN:\", train_index, \"TEST:\", test_index)\n",
        "  my_knn = KNeighborsClassifier(n_neighbors=5)\n",
        "  X_train, X_test = X[train_index], X[test_index]\n",
        "  y_train, y_test = y[train_index], y[test_index]\n",
        "  my_knn.fit(X_train, y_train)\n",
        "  y_predict = my_knn.predict(X_test)\n",
        "\n",
        "  accuracy_list.append(sm.accuracy_score(y_predict, y_test))\n",
        "\n",
        "print(\"Classification Error:\",1-sum(accuracy_list)/len(accuracy_list))"
      ],
      "execution_count": 0,
      "outputs": [
        {
          "output_type": "stream",
          "text": [
            "Classification Error: 0.033333333333333326\n"
          ],
          "name": "stdout"
        }
      ]
    },
    {
      "cell_type": "code",
      "metadata": {
        "id": "__1JWFmqcJEa",
        "colab_type": "code",
        "colab": {}
      },
      "source": [
        ""
      ],
      "execution_count": 0,
      "outputs": []
    }
  ]
}