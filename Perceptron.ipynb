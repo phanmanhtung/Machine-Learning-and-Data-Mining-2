{
  "nbformat": 4,
  "nbformat_minor": 0,
  "metadata": {
    "colab": {
      "name": "Perceptron.ipynb",
      "provenance": [],
      "machine_shape": "hm",
      "authorship_tag": "ABX9TyNy1Y24hiYCs4s6yJb67xAS",
      "include_colab_link": true
    },
    "kernelspec": {
      "name": "python3",
      "display_name": "Python 3"
    }
  },
  "cells": [
    {
      "cell_type": "markdown",
      "metadata": {
        "id": "view-in-github",
        "colab_type": "text"
      },
      "source": [
        "<a href=\"https://colab.research.google.com/github/phanmanhtung/Machine-Learning-and-Data-Mining-2/blob/master/Perceptron.ipynb\" target=\"_parent\"><img src=\"https://colab.research.google.com/assets/colab-badge.svg\" alt=\"Open In Colab\"/></a>"
      ]
    },
    {
      "cell_type": "code",
      "metadata": {
        "id": "mWFu_SzGI_Xf",
        "colab_type": "code",
        "outputId": "9287870d-d666-4555-e873-c01fc73ccfbd",
        "colab": {
          "base_uri": "https://localhost:8080/",
          "height": 122
        }
      },
      "source": [
        "from google.colab import drive\n",
        "\n",
        "drive.mount('/content/gdrive')\n",
        "root_path = 'gdrive/My Drive/ggcolab/'  #change dir to your project folder"
      ],
      "execution_count": 0,
      "outputs": [
        {
          "output_type": "stream",
          "text": [
            "Go to this URL in a browser: https://accounts.google.com/o/oauth2/auth?client_id=947318989803-6bn6qk8qdgf4n4g3pfee6491hc0brc4i.apps.googleusercontent.com&redirect_uri=urn%3aietf%3awg%3aoauth%3a2.0%3aoob&response_type=code&scope=email%20https%3a%2f%2fwww.googleapis.com%2fauth%2fdocs.test%20https%3a%2f%2fwww.googleapis.com%2fauth%2fdrive%20https%3a%2f%2fwww.googleapis.com%2fauth%2fdrive.photos.readonly%20https%3a%2f%2fwww.googleapis.com%2fauth%2fpeopleapi.readonly\n",
            "\n",
            "Enter your authorization code:\n",
            "··········\n",
            "Mounted at /content/gdrive\n"
          ],
          "name": "stdout"
        }
      ]
    },
    {
      "cell_type": "code",
      "metadata": {
        "id": "u-p0L45aJBWP",
        "colab_type": "code",
        "outputId": "bc4a951a-5fd7-44b5-c602-2323c9a7cc26",
        "colab": {
          "base_uri": "https://localhost:8080/",
          "height": 204
        }
      },
      "source": [
        "import numpy as np\n",
        "import matplotlib.pyplot as plt\n",
        "import pandas as pd\n",
        "\n",
        "column = [\"sepal length\", \"sepal width\", \"petal length\", \"petal width\", \"class\"]\n",
        "df = pd.read_csv(\"/content/gdrive/My Drive/iris.data\", sep=',', header=None)\n",
        "df.columns = column\n",
        "myclass = df[\"class\"]\n",
        "df.head(5)"
      ],
      "execution_count": 0,
      "outputs": [
        {
          "output_type": "execute_result",
          "data": {
            "text/html": [
              "<div>\n",
              "<style scoped>\n",
              "    .dataframe tbody tr th:only-of-type {\n",
              "        vertical-align: middle;\n",
              "    }\n",
              "\n",
              "    .dataframe tbody tr th {\n",
              "        vertical-align: top;\n",
              "    }\n",
              "\n",
              "    .dataframe thead th {\n",
              "        text-align: right;\n",
              "    }\n",
              "</style>\n",
              "<table border=\"1\" class=\"dataframe\">\n",
              "  <thead>\n",
              "    <tr style=\"text-align: right;\">\n",
              "      <th></th>\n",
              "      <th>sepal length</th>\n",
              "      <th>sepal width</th>\n",
              "      <th>petal length</th>\n",
              "      <th>petal width</th>\n",
              "      <th>class</th>\n",
              "    </tr>\n",
              "  </thead>\n",
              "  <tbody>\n",
              "    <tr>\n",
              "      <th>0</th>\n",
              "      <td>5.1</td>\n",
              "      <td>3.5</td>\n",
              "      <td>1.4</td>\n",
              "      <td>0.2</td>\n",
              "      <td>Iris-setosa</td>\n",
              "    </tr>\n",
              "    <tr>\n",
              "      <th>1</th>\n",
              "      <td>4.9</td>\n",
              "      <td>3.0</td>\n",
              "      <td>1.4</td>\n",
              "      <td>0.2</td>\n",
              "      <td>Iris-setosa</td>\n",
              "    </tr>\n",
              "    <tr>\n",
              "      <th>2</th>\n",
              "      <td>4.7</td>\n",
              "      <td>3.2</td>\n",
              "      <td>1.3</td>\n",
              "      <td>0.2</td>\n",
              "      <td>Iris-setosa</td>\n",
              "    </tr>\n",
              "    <tr>\n",
              "      <th>3</th>\n",
              "      <td>4.6</td>\n",
              "      <td>3.1</td>\n",
              "      <td>1.5</td>\n",
              "      <td>0.2</td>\n",
              "      <td>Iris-setosa</td>\n",
              "    </tr>\n",
              "    <tr>\n",
              "      <th>4</th>\n",
              "      <td>5.0</td>\n",
              "      <td>3.6</td>\n",
              "      <td>1.4</td>\n",
              "      <td>0.2</td>\n",
              "      <td>Iris-setosa</td>\n",
              "    </tr>\n",
              "  </tbody>\n",
              "</table>\n",
              "</div>"
            ],
            "text/plain": [
              "   sepal length  sepal width  petal length  petal width        class\n",
              "0           5.1          3.5           1.4          0.2  Iris-setosa\n",
              "1           4.9          3.0           1.4          0.2  Iris-setosa\n",
              "2           4.7          3.2           1.3          0.2  Iris-setosa\n",
              "3           4.6          3.1           1.5          0.2  Iris-setosa\n",
              "4           5.0          3.6           1.4          0.2  Iris-setosa"
            ]
          },
          "metadata": {
            "tags": []
          },
          "execution_count": 2
        }
      ]
    },
    {
      "cell_type": "code",
      "metadata": {
        "id": "t76Ic3YMKZMx",
        "colab_type": "code",
        "outputId": "8a2565cd-519e-4cc6-b3f2-39c6e62179c2",
        "colab": {
          "base_uri": "https://localhost:8080/",
          "height": 34
        }
      },
      "source": [
        "# Get rid of class \"Iris-setosa\":\n",
        "mydf = df[df['class'] != \"Iris-setosa\"]\n",
        "twoclass = mydf[\"class\"]\n",
        "print(len(twoclass))"
      ],
      "execution_count": 0,
      "outputs": [
        {
          "output_type": "stream",
          "text": [
            "100\n"
          ],
          "name": "stdout"
        }
      ]
    },
    {
      "cell_type": "code",
      "metadata": {
        "id": "MxQ9xKkvJBZb",
        "colab_type": "code",
        "colab": {}
      },
      "source": [
        "X = mydf.drop([\"class\"], axis=1).values\n",
        "y = twoclass.values\n",
        "\n",
        "# Turn the class into -1; 1 for training purpose\n",
        "# Iris-versicolor = -1; Iris-virginica = 1\n",
        "y = np.where(y == \"Iris-versicolor\", -1, 1)\n",
        "\n",
        "# splitting the data into training and test sets (70:30)\n",
        "from sklearn.model_selection import train_test_split\n",
        "X_train,X_test,y_train,y_test = train_test_split(X,y,test_size=0.3,random_state=4)"
      ],
      "execution_count": 0,
      "outputs": []
    },
    {
      "cell_type": "code",
      "metadata": {
        "id": "Na7lM247JBh1",
        "colab_type": "code",
        "outputId": "4a5737e3-818c-434d-efb1-3117ff963341",
        "colab": {
          "base_uri": "https://localhost:8080/",
          "height": 102
        }
      },
      "source": [
        "# Perceptron in action:\n",
        "def h(sl, sw, pl, pw, w1, w2, w3, w4, b):\n",
        "    return np.sign(sl*w1 + sw*w2 + pl*w3 + pw*w4 + b)\n",
        "\n",
        "w1 = 0\n",
        "w2 = 0\n",
        "w3 = 0\n",
        "w4 = 0\n",
        "b = 0\n",
        "\n",
        "alpha = 0.1\n",
        "for j in range(1000):\n",
        "  for i in range(0, len(X_train)):\n",
        "    if h(X_train[i][0], X_train[i][1], X_train[i][2], X_train[i][3], w1, w2, w3, w4, b) != y_train[i]:\n",
        "      w1 = w1 + alpha*y_train[i]*X_train[i][0]\n",
        "      w2 = w2 + alpha*y_train[i]*X_train[i][1]\n",
        "      w3 = w3 + alpha*y_train[i]*X_train[i][2]\n",
        "      w4 = w4 + alpha*y_train[i]*X_train[i][3]\n",
        "      b = b + alpha*y_train[i]\n",
        "\n",
        "print(w1)\n",
        "print(w2)\n",
        "print(w3)\n",
        "print(w4)\n",
        "print(b)"
      ],
      "execution_count": 0,
      "outputs": [
        {
          "output_type": "stream",
          "text": [
            "-7.780000000000173\n",
            "-8.32999999999988\n",
            "12.160000000000304\n",
            "23.299999999999656\n",
            "-25.000000000000085\n"
          ],
          "name": "stdout"
        }
      ]
    },
    {
      "cell_type": "code",
      "metadata": {
        "id": "3lry-_m7QRg-",
        "colab_type": "code",
        "outputId": "14253dbb-61bc-455e-fd11-8fcc2369e1cb",
        "colab": {
          "base_uri": "https://localhost:8080/",
          "height": 34
        }
      },
      "source": [
        "def which_flower(sl, sw, pl, pw):\n",
        "    return np.sign(sl*w1 + sw*w2 + pl*w3 + pw*w4 + b)\n",
        "\n",
        "which_flower(5,3,1,0.5)"
      ],
      "execution_count": 0,
      "outputs": [
        {
          "output_type": "execute_result",
          "data": {
            "text/plain": [
              "-1.0"
            ]
          },
          "metadata": {
            "tags": []
          },
          "execution_count": 6
        }
      ]
    },
    {
      "cell_type": "code",
      "metadata": {
        "id": "DwCqIA4hzJXT",
        "colab_type": "code",
        "outputId": "e500ff28-0369-4d6d-a01b-82318bcbadd7",
        "colab": {
          "base_uri": "https://localhost:8080/",
          "height": 34
        }
      },
      "source": [
        "import sklearn.metrics as sm\n",
        "\n",
        "# List of comprehension\n",
        "y_pred = np.array([which_flower(i[0], i[1], i[2], i[3]) for i in X_test])\n",
        "\n",
        "sm.accuracy_score(y_pred, y_test)"
      ],
      "execution_count": 0,
      "outputs": [
        {
          "output_type": "execute_result",
          "data": {
            "text/plain": [
              "0.9666666666666667"
            ]
          },
          "metadata": {
            "tags": []
          },
          "execution_count": 11
        }
      ]
    },
    {
      "cell_type": "code",
      "metadata": {
        "id": "QdUllIa2lusN",
        "colab_type": "code",
        "outputId": "0e78f19f-a8cb-4ab4-8ede-b153dce0656d",
        "colab": {
          "base_uri": "https://localhost:8080/",
          "height": 34
        }
      },
      "source": [
        "# Using list of comprehension, we can turn np.array within 1 line!!!\n",
        "print(type(y_pred))"
      ],
      "execution_count": 0,
      "outputs": [
        {
          "output_type": "stream",
          "text": [
            "<class 'numpy.ndarray'>\n"
          ],
          "name": "stdout"
        }
      ]
    },
    {
      "cell_type": "code",
      "metadata": {
        "id": "6NEnzJS-PJdl",
        "colab_type": "code",
        "outputId": "a6678299-8dbd-4169-8955-745ed89968e6",
        "colab": {
          "base_uri": "https://localhost:8080/",
          "height": 51
        }
      },
      "source": [
        "#______________________________Using PCA______________________________#\n",
        "\n",
        "from sklearn.decomposition import PCA\n",
        "from sklearn import preprocessing\n",
        "\n",
        "scaled_data = preprocessing.scale(X)\n",
        " \n",
        "pca = PCA(n_components=2) # create a PCA object\n",
        "pca.fit(scaled_data) # do the math\n",
        "X_pca = pca.transform(scaled_data) # get PCA coordinates for scaled_data\n",
        "\n",
        "print(X_pca.shape)\n",
        "print(y.shape)"
      ],
      "execution_count": 0,
      "outputs": [
        {
          "output_type": "stream",
          "text": [
            "(100, 2)\n",
            "(100,)\n"
          ],
          "name": "stdout"
        }
      ]
    },
    {
      "cell_type": "code",
      "metadata": {
        "id": "LpJatwh6QCQe",
        "colab_type": "code",
        "outputId": "862f35b4-8186-47ea-dbd5-5505ec02ad95",
        "colab": {
          "base_uri": "https://localhost:8080/",
          "height": 68
        }
      },
      "source": [
        "def h(pc1, pc2, w1, w2, b):\n",
        "    return np.sign(pc1*w1 + pc2*w2 + b)\n",
        "\n",
        "w1 = 0\n",
        "w2 = 0\n",
        "b = 0\n",
        "alpha = 1\n",
        "\n",
        "for j in range(1000):\n",
        "  for i in range(0, len(X_pca)):\n",
        "    if h(X_pca[i][0], X_pca[i][1], w1, w2, b) != y[i]:\n",
        "      w1 = w1 + alpha*y[i]*X_pca[i][0]\n",
        "      w2 = w2 + alpha*y[i]*X_pca[i][1]\n",
        "      b = b + alpha*y[i]\n",
        "\n",
        "print(w1)\n",
        "print(w2)\n",
        "print(b)"
      ],
      "execution_count": 0,
      "outputs": [
        {
          "output_type": "stream",
          "text": [
            "2.873257795532451\n",
            "3.899221277224042\n",
            "2\n"
          ],
          "name": "stdout"
        }
      ]
    },
    {
      "cell_type": "code",
      "metadata": {
        "id": "II2BZnImRqJ2",
        "colab_type": "code",
        "outputId": "f96f14cf-c443-4c3b-8060-8f482b7d4292",
        "colab": {
          "base_uri": "https://localhost:8080/",
          "height": 34
        }
      },
      "source": [
        "def which_flower(pc1, pc2):\n",
        "    return np.sign(pc1*w1 + pc2*w2 + b)\n",
        "\n",
        "which_flower(2,3)"
      ],
      "execution_count": 0,
      "outputs": [
        {
          "output_type": "execute_result",
          "data": {
            "text/plain": [
              "1.0"
            ]
          },
          "metadata": {
            "tags": []
          },
          "execution_count": 195
        }
      ]
    },
    {
      "cell_type": "code",
      "metadata": {
        "id": "a4PyPIuWQ_ct",
        "colab_type": "code",
        "outputId": "0c51099f-3430-4d62-886a-1066d9fc7573",
        "colab": {
          "base_uri": "https://localhost:8080/",
          "height": 296
        }
      },
      "source": [
        "#MESH\n",
        "from matplotlib.colors import ListedColormap\n",
        "cmap_light = ListedColormap(['#AAAAFF','#AAFFAA','#FFAAAA'])\n",
        "#generate all the points in the plane using np.meshgrid(np.arange(x_min, x_min, super_small))\n",
        "xx, yy = np.meshgrid(np.linspace(X_pca[:,0].min(), X_pca[:,0].max(), num=100), np.linspace(X_pca[:,1].min(), X_pca[:,1].max(), num=100))\n",
        "Z = which_flower(xx.ravel(),yy.ravel())\n",
        "Z = Z.reshape(xx.shape)\n",
        "\n",
        "plt.figure()\n",
        "# xx, yy are ALL the points in the plane, Z is the color of each area\n",
        "# then plot the points using plt.scatter as usual\n",
        "plt.pcolormesh(xx,yy,Z,cmap=cmap_light)\n",
        "\n",
        "# Graph points\n",
        "for i in range(0, len(X_pca)):\n",
        "    if y[i] == 1:\n",
        "        plt.scatter(X_pca[i][0], X_pca[i][1], c = 'r')\n",
        "    elif y[i] == -1:\n",
        "        plt.scatter(X_pca[i][0], X_pca[i][1], c = 'b')\n",
        "plt.grid()\n",
        "plt.xlabel('PC1')\n",
        "plt.ylabel('PC2')\n",
        "\n",
        "plt.xlim(xx.min(),xx.max())\n",
        "plt.ylim(yy.min(),yy.max())\n",
        "#------x_min x_max y_min y_max"
      ],
      "execution_count": 0,
      "outputs": [
        {
          "output_type": "execute_result",
          "data": {
            "text/plain": [
              "(-1.7161812507853758, 2.3299089668338917)"
            ]
          },
          "metadata": {
            "tags": []
          },
          "execution_count": 198
        },
        {
          "output_type": "display_data",
          "data": {
            "image/png": "[encoded data removed]",
            "text/plain": [
              "<Figure size 432x288 with 1 Axes>"
            ]
          },
          "metadata": {
            "tags": []
          }
        }
      ]
    },
    {
      "cell_type": "code",
      "metadata": {
        "id": "Hc8LXTllTiPe",
        "colab_type": "code",
        "outputId": "7c3e18e0-d89e-4b26-fc77-819bf830c8e8",
        "colab": {
          "base_uri": "https://localhost:8080/",
          "height": 235
        }
      },
      "source": [
        "# Breast cancer dataset\n",
        "\n",
        "import pandas as pd\n",
        "import numpy as np\n",
        "import matplotlib.pyplot as plt\n",
        "\n",
        "column = [\"Sample code number\", \"Clump Thickness\", \"Uniformity of Cell Size\", \"Uniformity of Cell Shape\", \"Marginal Adhesion\", \"Single Epithelial Cell Size\",\n",
        "          \"Bare Nuclei\", \"Bland Chromatin\", \"Normal Nucleoli\", \"Mitoses\", \"Class\"]\n",
        "df = pd.read_csv(\"/content/gdrive/My Drive/breast-cancer-wisconsin.data\", sep=',', header=None, skipinitialspace=True)\n",
        "df.columns = column\n",
        "\n",
        "# Save the class information\n",
        "myclass = df[\"Class\"]\n",
        "\n",
        "# Set the ID number as index\n",
        "df.set_index(\"Sample code number\", inplace=True)\n",
        "\n",
        "# Get rid of class column for statistical analysis and PCA, append it latter\n",
        "df.drop(['Class'],axis=1, inplace=True)\n",
        "\n",
        "df.head()"
      ],
      "execution_count": 0,
      "outputs": [
        {
          "output_type": "execute_result",
          "data": {
            "text/html": [
              "<div>\n",
              "<style scoped>\n",
              "    .dataframe tbody tr th:only-of-type {\n",
              "        vertical-align: middle;\n",
              "    }\n",
              "\n",
              "    .dataframe tbody tr th {\n",
              "        vertical-align: top;\n",
              "    }\n",
              "\n",
              "    .dataframe thead th {\n",
              "        text-align: right;\n",
              "    }\n",
              "</style>\n",
              "<table border=\"1\" class=\"dataframe\">\n",
              "  <thead>\n",
              "    <tr style=\"text-align: right;\">\n",
              "      <th></th>\n",
              "      <th>Clump Thickness</th>\n",
              "      <th>Uniformity of Cell Size</th>\n",
              "      <th>Uniformity of Cell Shape</th>\n",
              "      <th>Marginal Adhesion</th>\n",
              "      <th>Single Epithelial Cell Size</th>\n",
              "      <th>Bare Nuclei</th>\n",
              "      <th>Bland Chromatin</th>\n",
              "      <th>Normal Nucleoli</th>\n",
              "      <th>Mitoses</th>\n",
              "    </tr>\n",
              "    <tr>\n",
              "      <th>Sample code number</th>\n",
              "      <th></th>\n",
              "      <th></th>\n",
              "      <th></th>\n",
              "      <th></th>\n",
              "      <th></th>\n",
              "      <th></th>\n",
              "      <th></th>\n",
              "      <th></th>\n",
              "      <th></th>\n",
              "    </tr>\n",
              "  </thead>\n",
              "  <tbody>\n",
              "    <tr>\n",
              "      <th>1000025</th>\n",
              "      <td>5</td>\n",
              "      <td>1</td>\n",
              "      <td>1</td>\n",
              "      <td>1</td>\n",
              "      <td>2</td>\n",
              "      <td>1</td>\n",
              "      <td>3</td>\n",
              "      <td>1</td>\n",
              "      <td>1</td>\n",
              "    </tr>\n",
              "    <tr>\n",
              "      <th>1002945</th>\n",
              "      <td>5</td>\n",
              "      <td>4</td>\n",
              "      <td>4</td>\n",
              "      <td>5</td>\n",
              "      <td>7</td>\n",
              "      <td>10</td>\n",
              "      <td>3</td>\n",
              "      <td>2</td>\n",
              "      <td>1</td>\n",
              "    </tr>\n",
              "    <tr>\n",
              "      <th>1015425</th>\n",
              "      <td>3</td>\n",
              "      <td>1</td>\n",
              "      <td>1</td>\n",
              "      <td>1</td>\n",
              "      <td>2</td>\n",
              "      <td>2</td>\n",
              "      <td>3</td>\n",
              "      <td>1</td>\n",
              "      <td>1</td>\n",
              "    </tr>\n",
              "    <tr>\n",
              "      <th>1016277</th>\n",
              "      <td>6</td>\n",
              "      <td>8</td>\n",
              "      <td>8</td>\n",
              "      <td>1</td>\n",
              "      <td>3</td>\n",
              "      <td>4</td>\n",
              "      <td>3</td>\n",
              "      <td>7</td>\n",
              "      <td>1</td>\n",
              "    </tr>\n",
              "    <tr>\n",
              "      <th>1017023</th>\n",
              "      <td>4</td>\n",
              "      <td>1</td>\n",
              "      <td>1</td>\n",
              "      <td>3</td>\n",
              "      <td>2</td>\n",
              "      <td>1</td>\n",
              "      <td>3</td>\n",
              "      <td>1</td>\n",
              "      <td>1</td>\n",
              "    </tr>\n",
              "  </tbody>\n",
              "</table>\n",
              "</div>"
            ],
            "text/plain": [
              "                    Clump Thickness  ...  Mitoses\n",
              "Sample code number                   ...         \n",
              "1000025                           5  ...        1\n",
              "1002945                           5  ...        1\n",
              "1015425                           3  ...        1\n",
              "1016277                           6  ...        1\n",
              "1017023                           4  ...        1\n",
              "\n",
              "[5 rows x 9 columns]"
            ]
          },
          "metadata": {
            "tags": []
          },
          "execution_count": 199
        }
      ]
    },
    {
      "cell_type": "code",
      "metadata": {
        "id": "AEgmU6nBTiTj",
        "colab_type": "code",
        "colab": {}
      },
      "source": [
        "X = df.replace(\"?\", 1).values\n",
        "y = myclass.values\n",
        "\n",
        "from sklearn.model_selection import train_test_split\n",
        "X_train,X_test,y_train,y_test = train_test_split(X,y,test_size=0.1,random_state=4)"
      ],
      "execution_count": 0,
      "outputs": []
    },
    {
      "cell_type": "code",
      "metadata": {
        "id": "yIXs6Ol_WGGl",
        "colab_type": "code",
        "outputId": "f18f7ac4-399a-4ead-e660-e2e8b0a35137",
        "colab": {
          "base_uri": "https://localhost:8080/",
          "height": 34
        }
      },
      "source": [
        "from sklearn.linear_model import Perceptron\n",
        "\n",
        "perceptron = Perceptron(tol=1e-3, random_state=0)\n",
        "perceptron.fit(X_train, y_train)\n",
        "\n",
        "# The obtained weights after running the algorithm\n",
        "print(perceptron.coef_)"
      ],
      "execution_count": 0,
      "outputs": [
        {
          "output_type": "stream",
          "text": [
            "[[-4. 19.  6.  4. -2. 15.  5.  6. 11.]]\n"
          ],
          "name": "stdout"
        }
      ]
    },
    {
      "cell_type": "code",
      "metadata": {
        "id": "BGF7dFVaTiM6",
        "colab_type": "code",
        "outputId": "13825f2d-86ed-4236-909c-563d91e3f399",
        "colab": {
          "base_uri": "https://localhost:8080/",
          "height": 51
        }
      },
      "source": [
        "y_pred = perceptron.predict(X_test)\n",
        "print(y_pred)"
      ],
      "execution_count": 0,
      "outputs": [
        {
          "output_type": "stream",
          "text": [
            "[4 2 2 2 2 2 2 4 4 4 2 2 2 2 4 4 2 2 2 2 2 4 2 2 2 4 2 2 4 4 2 4 2 2 2 4 2\n",
            " 4 4 2 2 4 4 2 2 2 2 2 2 2 2 4 2 2 2 2 4 4 4 4 2 2 4 4 4 2 2 2 4 2]\n"
          ],
          "name": "stdout"
        }
      ]
    },
    {
      "cell_type": "code",
      "metadata": {
        "id": "2ZAVvLyXWe5e",
        "colab_type": "code",
        "outputId": "6da2efd2-c8e2-4100-f895-f79822183200",
        "colab": {
          "base_uri": "https://localhost:8080/",
          "height": 34
        }
      },
      "source": [
        "sm.accuracy_score(y_pred, y_test)"
      ],
      "execution_count": 0,
      "outputs": [
        {
          "output_type": "execute_result",
          "data": {
            "text/plain": [
              "0.9857142857142858"
            ]
          },
          "metadata": {
            "tags": []
          },
          "execution_count": 212
        }
      ]
    },
    {
      "cell_type": "code",
      "metadata": {
        "id": "N_h_tAGiXiUb",
        "colab_type": "code",
        "colab": {}
      },
      "source": [
        ""
      ],
      "execution_count": 0,
      "outputs": []
    },
    {
      "cell_type": "code",
      "metadata": {
        "id": "ytzBCxIZXidg",
        "colab_type": "code",
        "colab": {}
      },
      "source": [
        ""
      ],
      "execution_count": 0,
      "outputs": []
    }
  ]
}